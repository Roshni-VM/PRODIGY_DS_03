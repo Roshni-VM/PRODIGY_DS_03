{
  "nbformat": 4,
  "nbformat_minor": 0,
  "metadata": {
    "colab": {
      "private_outputs": true,
      "provenance": []
    },
    "kernelspec": {
      "name": "python3",
      "display_name": "Python 3"
    },
    "language_info": {
      "name": "python"
    }
  },
  "cells": [
    {
      "cell_type": "markdown",
      "source": [
        "TASK **3**"
      ],
      "metadata": {
        "id": "EFd00J0SCm-h"
      }
    },
    {
      "cell_type": "markdown",
      "source": [
        "Analyze and visualize sentiment patterns in social media data to understand public opinion and attitudes towards specific topics or brands."
      ],
      "metadata": {
        "id": "MjcgJFjXFfNj"
      }
    },
    {
      "cell_type": "code",
      "source": [
        "# ========================================\n",
        "# 1. IMPORT LIBRARIES\n",
        "# ========================================\n",
        "import pandas as pd\n",
        "import numpy as np\n",
        "import matplotlib.pyplot as plt\n",
        "import seaborn as sns\n",
        "\n",
        "from sklearn.model_selection import train_test_split, GridSearchCV\n",
        "from sklearn.pipeline import Pipeline\n",
        "from sklearn.preprocessing import OneHotEncoder, StandardScaler\n",
        "from sklearn.compose import ColumnTransformer\n",
        "from sklearn.impute import SimpleImputer\n",
        "from sklearn.tree import DecisionTreeClassifier, plot_tree\n",
        "from sklearn.utils.class_weight import compute_class_weight\n",
        "from sklearn.metrics import (accuracy_score, classification_report, confusion_matrix,\n",
        "                             roc_auc_score, RocCurveDisplay)\n",
        "import joblib\n",
        "\n",
        "# Config\n",
        "RANDOM_STATE = 42\n",
        "TEST_SIZE = 0.2\n",
        "CV = 5\n",
        "N_JOBS = -1"
      ],
      "metadata": {
        "id": "-jmZkBUPFeTK"
      },
      "execution_count": null,
      "outputs": []
    },
    {
      "cell_type": "code",
      "source": [
        "# ========================================\n",
        "# 2. LOAD AND INSPECT DATASET\n",
        "# ========================================\n",
        "try:\n",
        "    df = pd.read_csv(\"/content/bank-additional.csv\", sep=';')\n",
        "    print(\"✅ Dataset loaded successfully\")\n",
        "    print(f\"📊 Dataset shape: {df.shape}\")\n",
        "    display(df.head())\n",
        "\n",
        "    print(\"\\n🧪 DATA QUALITY REPORT:\")\n",
        "    print(f\"Missing values:\\n{df.isnull().sum()}\")\n",
        "    print(f\"\\nData types:\\n{df.dtypes}\")\n",
        "    print(f\"\\nTarget distribution:\\n{df['y'].value_counts(normalize=True)}\")\n",
        "\n",
        "except FileNotFoundError:\n",
        "    print(\"❌ Error: File not found.\")\n",
        "    exit()"
      ],
      "metadata": {
        "id": "YfNRcVIslxUX"
      },
      "execution_count": null,
      "outputs": []
    },
    {
      "cell_type": "code",
      "source": [
        "# ========================================\n",
        "# 3. PRELIMINARY EDA\n",
        "# ========================================\n",
        "plt.figure()\n",
        "ax = sns.countplot(x='y', data=df)\n",
        "plt.title('Target Variable Distribution', fontweight='bold')\n",
        "plt.xlabel('Subscription')\n",
        "plt.ylabel('Count')\n",
        "total = len(df)\n",
        "for p in ax.patches:\n",
        "    height = p.get_height()\n",
        "    ax.text(p.get_x() + p.get_width()/2., height + 20,\n",
        "            f'{height}\\n({height/total:.1%})', ha='center')\n",
        "plt.tight_layout()\n",
        "plt.show()"
      ],
      "metadata": {
        "id": "Tn5PsQ5UlxSP"
      },
      "execution_count": null,
      "outputs": []
    },
    {
      "cell_type": "code",
      "source": [
        "# ========================================\n",
        "# 4. PREPROCESSING PIPELINE\n",
        "# ========================================\n",
        "# Replace 'unknown' with NaN if present\n",
        "df.replace('unknown', np.nan, inplace=True)\n",
        "\n",
        "# Separate features and target\n",
        "X = df.drop('y', axis=1)\n",
        "y = df['y'].map({'no': 0, 'yes': 1})\n",
        "\n",
        "# Identify feature types\n",
        "categorical_features = X.select_dtypes(include=['object', 'category']).columns.tolist()\n",
        "numerical_features = X.select_dtypes(include=['int64', 'float64']).columns.tolist()\n",
        "\n",
        "print(f\"\\n📌 Categorical features: {categorical_features}\")\n",
        "print(f\"📌 Numerical features: {numerical_features}\")\n",
        "\n",
        "# Preprocessing transformers\n",
        "categorical_transformer = Pipeline(steps=[\n",
        "    ('imputer', SimpleImputer(strategy='constant', fill_value='missing')),\n",
        "    ('encoder', OneHotEncoder(handle_unknown='ignore', sparse_output=False))\n",
        "])\n",
        "\n",
        "numerical_transformer = Pipeline(steps=[\n",
        "    ('imputer', SimpleImputer(strategy='median')),\n",
        "    ('scaler', StandardScaler())\n",
        "])\n",
        "\n",
        "# Column transformer\n",
        "preprocessor = ColumnTransformer(transformers=[\n",
        "    ('cat', categorical_transformer, categorical_features),\n",
        "    ('num', numerical_transformer, numerical_features)\n",
        "])"
      ],
      "metadata": {
        "id": "AytcJ1Z2lxO0"
      },
      "execution_count": null,
      "outputs": []
    },
    {
      "cell_type": "code",
      "source": [
        "# ========================================\n",
        "# 5. HANDLE CLASS IMBALANCE\n",
        "# ========================================\n",
        "class_weights = compute_class_weight(\n",
        "    class_weight='balanced',\n",
        "    classes=np.unique(y),\n",
        "    y=y\n",
        ")\n",
        "class_weight_dict = dict(zip(np.unique(y), class_weights))\n",
        "print(f\"\\n⚖️ Class weights: {class_weight_dict}\")\n"
      ],
      "metadata": {
        "id": "cs9lvx2qlxMY"
      },
      "execution_count": null,
      "outputs": []
    },
    {
      "cell_type": "code",
      "source": [
        "# ========================================\n",
        "# 6. MODEL PIPELINE WITH GRIDSEARCH\n",
        "# ========================================\n",
        "pipeline = Pipeline(steps=[\n",
        "    ('preprocessor', preprocessor),\n",
        "    ('classifier', DecisionTreeClassifier(\n",
        "        class_weight=class_weight_dict,\n",
        "        random_state=RANDOM_STATE\n",
        "    ))\n",
        "])\n",
        "\n",
        "param_grid = {\n",
        "    'classifier__criterion': ['gini', 'entropy'],\n",
        "    'classifier__max_depth': [3, 5, 7, 10, None],\n",
        "    'classifier__min_samples_split': [2, 5, 10],\n",
        "    'classifier__min_samples_leaf': [1, 2, 4]\n",
        "}\n",
        "\n",
        "grid_search = GridSearchCV(\n",
        "    estimator=pipeline,\n",
        "    param_grid=param_grid,\n",
        "    scoring='roc_auc',\n",
        "    cv=CV,\n",
        "    n_jobs=N_JOBS,\n",
        "    verbose=1\n",
        ")\n",
        "\n",
        "X_train, X_test, y_train, y_test = train_test_split(\n",
        "    X, y, test_size=TEST_SIZE, stratify=y, random_state=RANDOM_STATE\n",
        ")\n",
        "\n",
        "print(\"\\n🔍 Model training started...\")\n",
        "grid_search.fit(X_train, y_train)\n",
        "print(\"✅ Model training completed!\")\n"
      ],
      "metadata": {
        "id": "SiHwqtHglxJ2"
      },
      "execution_count": null,
      "outputs": []
    },
    {
      "cell_type": "code",
      "source": [
        "# ========================================\n",
        "# 7. MODEL EVALUATION\n",
        "# ========================================\n",
        "best_clf = grid_search.best_estimator_\n",
        "print(f\"\\n🏆 Best parameters: {grid_search.best_params_}\")\n",
        "print(f\"⭐ Best validation ROC-AUC: {grid_search.best_score_:.4f}\")\n",
        "\n",
        "y_pred = best_clf.predict(X_test)\n",
        "y_proba = best_clf.predict_proba(X_test)[:, 1]\n",
        "\n",
        "print(\"\\n📊 FINAL MODEL PERFORMANCE:\")\n",
        "print(f\"Accuracy: {accuracy_score(y_test, y_pred):.4f}\")\n",
        "print(f\"ROC-AUC: {roc_auc_score(y_test, y_proba):.4f}\")\n",
        "print(\"\\n📝 Classification Report:\")\n",
        "print(classification_report(y_test, y_pred, target_names=['No', 'Yes']))\n",
        "\n",
        "# Confusion matrix\n",
        "cm = confusion_matrix(y_test, y_pred)\n",
        "plt.figure()\n",
        "sns.heatmap(cm, annot=True, fmt='d', cmap='Blues',\n",
        "            xticklabels=['No', 'Yes'], yticklabels=['No', 'Yes'])\n",
        "plt.title('Confusion Matrix', fontweight='bold')\n",
        "plt.ylabel('Actual')\n",
        "plt.xlabel('Predicted')\n",
        "plt.tight_layout()\n",
        "plt.show()\n",
        "\n",
        "# ROC Curve\n",
        "plt.figure()\n",
        "RocCurveDisplay.from_predictions(y_test, y_proba)\n",
        "plt.plot([0, 1], [0, 1], 'k--')\n",
        "plt.title('ROC Curve', fontweight='bold')\n",
        "plt.tight_layout()\n",
        "plt.show()"
      ],
      "metadata": {
        "id": "GTXihxBhlxG-"
      },
      "execution_count": null,
      "outputs": []
    },
    {
      "cell_type": "code",
      "source": [
        "# ========================================\n",
        "# 8. FEATURE IMPORTANCE\n",
        "# ========================================\n",
        "ohe_columns = best_clf.named_steps['preprocessor']\\\n",
        "    .named_transformers_['cat'].named_steps['encoder']\\\n",
        "    .get_feature_names_out(categorical_features)\n",
        "\n",
        "feature_names = np.concatenate([ohe_columns, numerical_features])\n",
        "importances = best_clf.named_steps['classifier'].feature_importances_\n",
        "\n",
        "feature_importances = pd.DataFrame({\n",
        "    'Feature': feature_names,\n",
        "    'Importance': importances\n",
        "}).sort_values('Importance', ascending=False).head(20)\n",
        "\n",
        "plt.figure(figsize=(12, 8))\n",
        "sns.barplot(x='Importance', y='Feature', data=feature_importances, palette='viridis')\n",
        "plt.title('Top 20 Feature Importances', fontweight='bold')\n",
        "plt.xlabel('Importance Score')\n",
        "plt.ylabel('Feature')\n",
        "plt.tight_layout()\n",
        "plt.show()\n",
        "\n",
        "# Optional: Save feature importances\n",
        "feature_importances.to_csv(\"feature_importance_top20.csv\", index=False)"
      ],
      "metadata": {
        "id": "CDFiJxMvlxEr"
      },
      "execution_count": null,
      "outputs": []
    },
    {
      "cell_type": "code",
      "source": [
        "# ========================================\n",
        "# 9. TREE VISUALIZATION (Simplified)\n",
        "# ========================================\n",
        "tree_model = best_clf.named_steps['classifier']\n",
        "plt.figure(figsize=(20, 12))\n",
        "plot_tree(tree_model,\n",
        "          feature_names=feature_names,\n",
        "          class_names=['No', 'Yes'],\n",
        "          filled=True,\n",
        "          rounded=True,\n",
        "          impurity=False,\n",
        "          max_depth=3,\n",
        "          proportion=True,\n",
        "          fontsize=10)\n",
        "plt.title('Decision Tree Structure (First 3 Levels)', fontweight='bold')\n",
        "plt.tight_layout()\n",
        "plt.show()"
      ],
      "metadata": {
        "id": "Ox3JZq-glw-h"
      },
      "execution_count": null,
      "outputs": []
    },
    {
      "cell_type": "code",
      "source": [
        "# ========================================\n",
        "# 10. SAVE MODEL\n",
        "# ========================================\n",
        "joblib.dump(best_clf, 'bank_marketing_model.pkl')\n",
        "print(\"💾 Model saved as 'bank_marketing_model.pkl'\")\n"
      ],
      "metadata": {
        "id": "-EACG1QKlw7K"
      },
      "execution_count": null,
      "outputs": []
    },
    {
      "cell_type": "markdown",
      "source": [
        "## ✅ Conclusion\n",
        "\n",
        "This project successfully implemented a Decision Tree Classifier to predict whether a customer will subscribe to a term deposit, using the Bank Marketing dataset from the UCI Machine Learning Repository. The workflow followed a structured machine learning pipeline including data preprocessing, class imbalance handling, model optimization, evaluation, and interpretation.\n",
        "\n",
        "**Key Highlights:**\n",
        "\n",
        "- 📊 **Data Preprocessing**: Categorical variables were encoded using OneHotEncoder, while numerical features were standardized. Missing values were handled appropriately using imputation strategies.\n",
        "\n",
        "- ⚖️ **Class Imbalance Handling**: Class weights were computed and incorporated into the model to address the skewed distribution of the target variable, improving fairness and model performance.\n",
        "\n",
        "- 🔍 **Model Optimization**: Hyperparameter tuning via GridSearchCV enhanced the Decision Tree’s generalization ability by exploring various depths, split criteria, and leaf sizes.\n",
        "\n",
        "- 📈 **Evaluation & Performance**: The final model achieved strong predictive performance, with high accuracy and ROC-AUC scores. Evaluation was supported by a confusion matrix, classification report, and ROC curve visualizations.\n",
        "\n",
        "- 🌿 **Interpretability**: The top 20 most influential features were identified and visualized, and a simplified version of the decision tree structure was plotted for enhanced explainability.\n",
        "\n",
        "- 💾 **Model Persistence**: The trained model was saved using `joblib`, making it suitable for future deployment or integration into production systems.\n",
        "\n",
        "Overall, this project delivers a scalable, interpretable, and well-validated machine learning solution for customer targeting in financial marketing campaigns.\n"
      ],
      "metadata": {
        "id": "Mv2SCyRnQexU"
      }
    },
    {
      "cell_type": "code",
      "source": [],
      "metadata": {
        "id": "YiRSKMpAm1S1"
      },
      "execution_count": null,
      "outputs": []
    },
    {
      "cell_type": "code",
      "source": [],
      "metadata": {
        "id": "RsIkjM0fm1PN"
      },
      "execution_count": null,
      "outputs": []
    }
  ]
}